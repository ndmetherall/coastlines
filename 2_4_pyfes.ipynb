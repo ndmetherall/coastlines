{
 "cells": [
  {
   "cell_type": "markdown",
   "id": "9dbdd8d4-3140-47ec-905c-27cc8ec5d833",
   "metadata": {
    "tags": []
   },
   "source": [
    "<h2>Coastline development notebook 2.4<h2>"
   ]
  },
  {
   "cell_type": "markdown",
   "id": "b2ea4364-2287-4a3d-b32f-946a390723d3",
   "metadata": {},
   "source": [
    "Pyfes is a module that enables integration of FES2014 tidal model data in python notebook analysis.   \n",
    "  \n",
    "<h5>Install pyfes<h5>  "
   ]
  },
  {
   "cell_type": "code",
   "execution_count": 2,
   "id": "aca3cfee-3081-4015-b3dc-b36304af9911",
   "metadata": {},
   "outputs": [
    {
     "ename": "SyntaxError",
     "evalue": "invalid syntax (1310648640.py, line 1)",
     "output_type": "error",
     "traceback": [
      "\u001b[0;36m  File \u001b[0;32m\"/tmp/ipykernel_16099/1310648640.py\"\u001b[0;36m, line \u001b[0;32m1\u001b[0m\n\u001b[0;31m    conda create -n tides python=3.7\u001b[0m\n\u001b[0m          ^\u001b[0m\n\u001b[0;31mSyntaxError\u001b[0m\u001b[0;31m:\u001b[0m invalid syntax\n"
     ]
    }
   ],
   "source": [
    "conda create -n tides python=3.7\n",
    "# conda activate tides\n",
    "# conda install jupyter python=3.7 ipython notebook\n",
    "# conda install libnetcdf=4.6.1 netCDF4 matplotlib numpy cartopy\n",
    "# conda install -c fbriol fes"
   ]
  },
  {
   "cell_type": "code",
   "execution_count": null,
   "id": "db879d1a-d31c-4e5e-99bb-a0b914f81947",
   "metadata": {},
   "outputs": [
    {
     "name": "stdout",
     "output_type": "stream",
     "text": [
      "Collecting package metadata (current_repodata.json): done\n",
      "Solving environment: failed with initial frozen solve. Retrying with flexible solve.\n",
      "Solving environment: failed with repodata from current_repodata.json, will retry with next repodata source.\n",
      "Collecting package metadata (repodata.json): done\n",
      "Solving environment: failed with initial frozen solve. Retrying with flexible solve.\n",
      "Solving environment: - "
     ]
    }
   ],
   "source": [
    "conda install -c fbriol fes"
   ]
  },
  {
   "cell_type": "markdown",
   "id": "47dfb02d-e152-4334-9aac-b3bb55eb98f6",
   "metadata": {},
   "source": [
    "<h4> Testing pyfes <h4>"
   ]
  },
  {
   "cell_type": "code",
   "execution_count": 4,
   "id": "2fc87d8f-baef-4113-8a37-f22469130c07",
   "metadata": {},
   "outputs": [
    {
     "ename": "ModuleNotFoundError",
     "evalue": "No module named 'pyfes'",
     "output_type": "error",
     "traceback": [
      "\u001b[0;31m---------------------------------------------------------------------------\u001b[0m",
      "\u001b[0;31mModuleNotFoundError\u001b[0m                       Traceback (most recent call last)",
      "\u001b[0;32m/tmp/ipykernel_4301/2220074598.py\u001b[0m in \u001b[0;36m<module>\u001b[0;34m\u001b[0m\n\u001b[0;32m----> 1\u001b[0;31m \u001b[0;32mimport\u001b[0m \u001b[0mpyfes\u001b[0m\u001b[0;34m\u001b[0m\u001b[0;34m\u001b[0m\u001b[0m\n\u001b[0m",
      "\u001b[0;31mModuleNotFoundError\u001b[0m: No module named 'pyfes'"
     ]
    }
   ],
   "source": [
    "import pyfes"
   ]
  },
  {
   "cell_type": "markdown",
   "id": "a1b0c94a-bb35-402a-8e5f-b06303a3f881",
   "metadata": {},
   "source": [
    "<h4> Issues with netcdf library <h4>   \n"
   ]
  },
  {
   "cell_type": "markdown",
   "id": "04ef71da-bab9-476f-b51a-64babb7dafb3",
   "metadata": {},
   "source": [
    "Dependencies sorted here: https://bitbucket.org/cnes_aviso/fes/issues/15/netcdf-dependency-issue-for-anaconda"
   ]
  },
  {
   "cell_type": "code",
   "execution_count": null,
   "id": "59b43f04-51a9-480f-9d93-6f9b55a6ffcb",
   "metadata": {},
   "outputs": [],
   "source": []
  }
 ],
 "metadata": {
  "kernelspec": {
   "display_name": "Python 3 (ipykernel)",
   "language": "python",
   "name": "python3"
  },
  "language_info": {
   "codemirror_mode": {
    "name": "ipython",
    "version": 3
   },
   "file_extension": ".py",
   "mimetype": "text/x-python",
   "name": "python",
   "nbconvert_exporter": "python",
   "pygments_lexer": "ipython3",
   "version": "3.8.12"
  }
 },
 "nbformat": 4,
 "nbformat_minor": 5
}
